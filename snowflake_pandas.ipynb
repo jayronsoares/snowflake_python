{
 "cells": [
  {
   "cell_type": "markdown",
   "id": "6ad91b0f",
   "metadata": {},
   "source": [
    "# Explore Data #\n",
    "## Structure ##\n",
    "## Granularity ##\n",
    "## Variability ##"
   ]
  },
  {
   "cell_type": "code",
   "execution_count": 1,
   "id": "48e59f1a",
   "metadata": {},
   "outputs": [],
   "source": [
    "import os\n",
    "import pandas as pd\n",
    "from pandas.io import sql\n",
    "import datetime\n",
    "import numpy as np\n",
    "import seaborn as sns"
   ]
  },
  {
   "cell_type": "code",
   "execution_count": 2,
   "id": "48e82ce1",
   "metadata": {},
   "outputs": [],
   "source": [
    "# STEP 1: EXTRACT DATA\"\n",
    "    \n",
    "# Load the log file equipment\n",
    "df_sensor = pd.read_csv(\"filename.csv\",\n",
    "                        sep=\",\",\n",
    "                        encoding='utf8')\n"
   ]
  },
  {
   "cell_type": "code",
   "execution_count": 3,
   "id": "fd09c1b7",
   "metadata": {},
   "outputs": [
    {
     "name": "stdout",
     "output_type": "stream",
     "text": [
      "<class 'pandas.core.frame.DataFrame'>\n",
      "RangeIndex: 18000 entries, 0 to 17999\n",
      "Data columns (total 30 columns):\n",
      " #   Column              Non-Null Count  Dtype  \n",
      "---  ------              --------------  -----  \n",
      " 0   timestamp           18000 non-null  object \n",
      " 1   location            18000 non-null  object \n",
      " 2   prd_line            18000 non-null  object \n",
      " 3   equipment           18000 non-null  object \n",
      " 4   operational_status  18000 non-null  int64  \n",
      " 5   fail_status         1815 non-null   object \n",
      " 6   measurement_0       18000 non-null  float64\n",
      " 7   quality_0           18000 non-null  object \n",
      " 8   measurement_1       18000 non-null  float64\n",
      " 9   quality_1           18000 non-null  object \n",
      " 10  measurement_2       18000 non-null  float64\n",
      " 11  quality_2           18000 non-null  object \n",
      " 12  measurement_3       18000 non-null  float64\n",
      " 13  quality_3           18000 non-null  object \n",
      " 14  measurement_4       18000 non-null  float64\n",
      " 15  quality_4           18000 non-null  object \n",
      " 16  measurement_5       18000 non-null  float64\n",
      " 17  quality_5           18000 non-null  object \n",
      " 18  measurement_6       18000 non-null  float64\n",
      " 19  quality_6           18000 non-null  object \n",
      " 20  measurement_7       18000 non-null  float64\n",
      " 21  quality_7           18000 non-null  object \n",
      " 22  measurement_8       18000 non-null  float64\n",
      " 23  quality_8           18000 non-null  object \n",
      " 24  measurement_9       18000 non-null  float64\n",
      " 25  quality_9           18000 non-null  object \n",
      " 26  measurement_10      18000 non-null  float64\n",
      " 27  quality_10          18000 non-null  object \n",
      " 28  measurement_11      18000 non-null  float64\n",
      " 29  quality_11          18000 non-null  object \n",
      "dtypes: float64(12), int64(1), object(17)\n",
      "memory usage: 4.1+ MB\n"
     ]
    }
   ],
   "source": [
    "# 1- Collect information about the dataset.\n",
    "df_sensor.info()"
   ]
  },
  {
   "cell_type": "code",
   "execution_count": 4,
   "id": "2587e4cf",
   "metadata": {},
   "outputs": [
    {
     "data": {
      "text/plain": [
       "timestamp              object\n",
       "location               object\n",
       "prd_line               object\n",
       "equipment              object\n",
       "operational_status      int64\n",
       "fail_status            object\n",
       "measurement_0         float64\n",
       "quality_0              object\n",
       "measurement_1         float64\n",
       "quality_1              object\n",
       "measurement_2         float64\n",
       "quality_2              object\n",
       "measurement_3         float64\n",
       "quality_3              object\n",
       "measurement_4         float64\n",
       "quality_4              object\n",
       "measurement_5         float64\n",
       "quality_5              object\n",
       "measurement_6         float64\n",
       "quality_6              object\n",
       "measurement_7         float64\n",
       "quality_7              object\n",
       "measurement_8         float64\n",
       "quality_8              object\n",
       "measurement_9         float64\n",
       "quality_9              object\n",
       "measurement_10        float64\n",
       "quality_10             object\n",
       "measurement_11        float64\n",
       "quality_11             object\n",
       "dtype: object"
      ]
     },
     "execution_count": 4,
     "metadata": {},
     "output_type": "execute_result"
    }
   ],
   "source": [
    "# 2- Verify the dataset data types.\n",
    "df_sensor.dtypes"
   ]
  },
  {
   "cell_type": "code",
   "execution_count": 5,
   "id": "807f8b36",
   "metadata": {},
   "outputs": [
    {
     "data": {
      "text/plain": [
       "timestamp              string\n",
       "location               string\n",
       "prd_line               string\n",
       "equipment              string\n",
       "operational_status      Int64\n",
       "fail_status            string\n",
       "measurement_0           Int64\n",
       "quality_0              string\n",
       "measurement_1         Float64\n",
       "quality_1              string\n",
       "measurement_2         Float64\n",
       "quality_2              string\n",
       "measurement_3         Float64\n",
       "quality_3              string\n",
       "measurement_4         Float64\n",
       "quality_4              string\n",
       "measurement_5         Float64\n",
       "quality_5              string\n",
       "measurement_6         Float64\n",
       "quality_6              string\n",
       "measurement_7         Float64\n",
       "quality_7              string\n",
       "measurement_8         Float64\n",
       "quality_8              string\n",
       "measurement_9         Float64\n",
       "quality_9              string\n",
       "measurement_10        Float64\n",
       "quality_10             string\n",
       "measurement_11        Float64\n",
       "quality_11             string\n",
       "dtype: object"
      ]
     },
     "execution_count": 5,
     "metadata": {},
     "output_type": "execute_result"
    }
   ],
   "source": [
    "# 3 - Convert data types\n",
    "df_sensor = df_sensor.convert_dtypes()\n",
    "df_sensor.dtypes"
   ]
  },
  {
   "cell_type": "code",
   "execution_count": 6,
   "id": "6b37abed",
   "metadata": {},
   "outputs": [],
   "source": [
    "# convert the column for timestamp format.\n",
    "df_sensor['timestamp'] = pd.to_datetime(df_sensor[\"timestamp\"])"
   ]
  },
  {
   "cell_type": "code",
   "execution_count": 7,
   "id": "0f36f4e0",
   "metadata": {},
   "outputs": [
    {
     "data": {
      "text/plain": [
       "0       2021-12-13 10:00:00\n",
       "1       2021-12-13 10:00:00\n",
       "2       2021-12-13 10:00:02\n",
       "3       2021-12-13 10:00:02\n",
       "4       2021-12-13 10:00:03\n",
       "                ...        \n",
       "17995   2021-12-13 14:59:56\n",
       "17996   2021-12-13 14:59:56\n",
       "17997   2021-12-13 14:59:57\n",
       "17998   2021-12-13 14:59:59\n",
       "17999   2021-12-13 14:59:59\n",
       "Name: timestamp, Length: 18000, dtype: datetime64[ns]"
      ]
     },
     "execution_count": 7,
     "metadata": {},
     "output_type": "execute_result"
    }
   ],
   "source": [
    "df_sensor['timestamp']"
   ]
  },
  {
   "cell_type": "code",
   "execution_count": 8,
   "id": "9138a9f8",
   "metadata": {},
   "outputs": [
    {
     "data": {
      "text/plain": [
       "<AxesSubplot:>"
      ]
     },
     "execution_count": 8,
     "metadata": {},
     "output_type": "execute_result"
    },
    {
     "data": {
      "image/png": "[encoded data removed]",
      "text/plain": [
       "<Figure size 432x288 with 2 Axes>"
      ]
     },
     "metadata": {
      "needs_background": "light"
     },
     "output_type": "display_data"
    }
   ],
   "source": [
    "# visualize NAN values\n",
    "\n",
    "sns.heatmap(df_sensor.isnull(), cmap='viridis')"
   ]
  },
  {
   "cell_type": "code",
   "execution_count": 9,
   "id": "aeeaf563",
   "metadata": {},
   "outputs": [
    {
     "name": "stdout",
     "output_type": "stream",
     "text": [
      "\n",
      "The dataframe has 30 columns and 18000 Rows.\n",
      "\n",
      "There are 1 columns that have missing values.\n"
     ]
    },
    {
     "data": {
      "text/html": [
       "<div>\n",
       "<style scoped>\n",
       "    .dataframe tbody tr th:only-of-type {\n",
       "        vertical-align: middle;\n",
       "    }\n",
       "\n",
       "    .dataframe tbody tr th {\n",
       "        vertical-align: top;\n",
       "    }\n",
       "\n",
       "    .dataframe thead th {\n",
       "        text-align: right;\n",
       "    }\n",
       "</style>\n",
       "<table border=\"1\" class=\"dataframe\">\n",
       "  <thead>\n",
       "    <tr style=\"text-align: right;\">\n",
       "      <th></th>\n",
       "      <th>Missing Values</th>\n",
       "      <th>% of Total Values</th>\n",
       "      <th>Total Missing Values</th>\n",
       "      <th>% Total Missing Values</th>\n",
       "      <th>Data Type</th>\n",
       "    </tr>\n",
       "  </thead>\n",
       "  <tbody>\n",
       "    <tr>\n",
       "      <th>fail_status</th>\n",
       "      <td>16185</td>\n",
       "      <td>89.9</td>\n",
       "      <td>16185</td>\n",
       "      <td>89.9</td>\n",
       "      <td>string</td>\n",
       "    </tr>\n",
       "  </tbody>\n",
       "</table>\n",
       "</div>"
      ],
      "text/plain": [
       "             Missing Values  % of Total Values  Total Missing Values  \\\n",
       "fail_status           16185               89.9                 16185   \n",
       "\n",
       "             % Total Missing Values Data Type  \n",
       "fail_status                    89.9    string  "
      ]
     },
     "execution_count": 9,
     "metadata": {},
     "output_type": "execute_result"
    }
   ],
   "source": [
    "# Verify missing values\n",
    "\n",
    "def chk_missing_values(df):\n",
    "    mis_val = df.isnull().sum()\n",
    "    mis_val_percent = 100 * df.isnull().sum() / len(df)\n",
    "    df_mz = pd.concat([mis_val, mis_val_percent], axis=1)\n",
    "    df_mz = df_mz.rename(\n",
    "        columns = {0 : 'Missing Values', 1 : '% of Total Values'})\n",
    "    df_mz['Total Missing Values'] = df_mz['Missing Values']\n",
    "    df_mz['% Total Missing Values'] = 100 * df_mz['Total Missing Values'] / len(df)\n",
    "    df_mz['Data Type'] = df.dtypes\n",
    "    df_mz = df_mz[df_mz.iloc[:,1] != 0].sort_values('% of Total Values', ascending=False).round(1)\n",
    "    print (\"\\nThe dataframe has \" + str(df.shape[1]) + \" columns and \" + str(df.shape[0]) + \" Rows.\\n\"\n",
    "           \"\\nThere are \" + str(df_mz.shape[0]) +\" columns that have missing values.\")\n",
    "    return df_mz\n",
    "\n",
    "#######################################################################################################\n",
    "\n",
    "chk_missing_values(df_sensor)"
   ]
  },
  {
   "cell_type": "code",
   "execution_count": 24,
   "id": "db93d0b8",
   "metadata": {},
   "outputs": [],
   "source": [
    "def ajuste_nan_cat(df):\n",
    "    df_non_numeric = df.select_dtypes(exclude=[np.number])\n",
    "    non_numeric_cols = df_non_numeric.columns.values\n",
    "    for col in non_numeric_cols:\n",
    "        missing = df[col].isnull()\n",
    "        num_missing = np.sum(missing)\n",
    "        if num_missing > 0:  # impute values only for columns that have missing values.\n",
    "            mod = df[col].describe()['top'] # impute with the most frequently occuring value.\n",
    "            df[col] = df[col].fillna(mod)\n",
    "    return df"
   ]
  },
  {
   "cell_type": "code",
   "execution_count": 25,
   "id": "169a8985",
   "metadata": {},
   "outputs": [],
   "source": [
    "df_sensor= ajuste_nan_cat(df_sensor)"
   ]
  },
  {
   "cell_type": "code",
   "execution_count": 26,
   "id": "ad237ee1",
   "metadata": {},
   "outputs": [
    {
     "name": "stdout",
     "output_type": "stream",
     "text": [
      "\n",
      "The dataframe has 30 columns and 18000 Rows.\n",
      "\n",
      "There are 0 columns that have missing values.\n"
     ]
    },
    {
     "data": {
      "text/html": [
       "<div>\n",
       "<style scoped>\n",
       "    .dataframe tbody tr th:only-of-type {\n",
       "        vertical-align: middle;\n",
       "    }\n",
       "\n",
       "    .dataframe tbody tr th {\n",
       "        vertical-align: top;\n",
       "    }\n",
       "\n",
       "    .dataframe thead th {\n",
       "        text-align: right;\n",
       "    }\n",
       "</style>\n",
       "<table border=\"1\" class=\"dataframe\">\n",
       "  <thead>\n",
       "    <tr style=\"text-align: right;\">\n",
       "      <th></th>\n",
       "      <th>Missing Values</th>\n",
       "      <th>% of Total Values</th>\n",
       "      <th>Total Missing Values</th>\n",
       "      <th>% Total Missing Values</th>\n",
       "      <th>Data Type</th>\n",
       "    </tr>\n",
       "  </thead>\n",
       "  <tbody>\n",
       "  </tbody>\n",
       "</table>\n",
       "</div>"
      ],
      "text/plain": [
       "Empty DataFrame\n",
       "Columns: [Missing Values, % of Total Values, Total Missing Values, % Total Missing Values, Data Type]\n",
       "Index: []"
      ]
     },
     "execution_count": 26,
     "metadata": {},
     "output_type": "execute_result"
    }
   ],
   "source": [
    "# Missing values fixed.\n",
    "chk_missing_values(df_sensor)"
   ]
  },
  {
   "cell_type": "code",
   "execution_count": 27,
   "id": "7d1d4fbd",
   "metadata": {},
   "outputs": [],
   "source": [
    "# remove blank spaces from columns.\n",
    "df_sensor.columns = [x.strip().replace(' ', \"\") for x in df_sensor.columns]"
   ]
  },
  {
   "cell_type": "code",
   "execution_count": 28,
   "id": "579a241c",
   "metadata": {},
   "outputs": [
    {
     "data": {
      "text/html": [
       "<div>\n",
       "<style scoped>\n",
       "    .dataframe tbody tr th:only-of-type {\n",
       "        vertical-align: middle;\n",
       "    }\n",
       "\n",
       "    .dataframe tbody tr th {\n",
       "        vertical-align: top;\n",
       "    }\n",
       "\n",
       "    .dataframe thead th {\n",
       "        text-align: right;\n",
       "    }\n",
       "</style>\n",
       "<table border=\"1\" class=\"dataframe\">\n",
       "  <thead>\n",
       "    <tr style=\"text-align: right;\">\n",
       "      <th></th>\n",
       "      <th>timestamp</th>\n",
       "      <th>location</th>\n",
       "      <th>prd_line</th>\n",
       "      <th>equipment</th>\n",
       "      <th>operational_status</th>\n",
       "      <th>fail_status</th>\n",
       "      <th>measurement_0</th>\n",
       "      <th>quality_0</th>\n",
       "      <th>measurement_1</th>\n",
       "      <th>quality_1</th>\n",
       "      <th>...</th>\n",
       "      <th>measurement_7</th>\n",
       "      <th>quality_7</th>\n",
       "      <th>measurement_8</th>\n",
       "      <th>quality_8</th>\n",
       "      <th>measurement_9</th>\n",
       "      <th>quality_9</th>\n",
       "      <th>measurement_10</th>\n",
       "      <th>quality_10</th>\n",
       "      <th>measurement_11</th>\n",
       "      <th>quality_11</th>\n",
       "    </tr>\n",
       "  </thead>\n",
       "  <tbody>\n",
       "    <tr>\n",
       "      <th>0</th>\n",
       "      <td>2021-12-13 10:00:00</td>\n",
       "      <td>Serra-ES</td>\n",
       "      <td>LINE_1</td>\n",
       "      <td>CALDEIRAS</td>\n",
       "      <td>1</td>\n",
       "      <td>LOST_COMUNICATION</td>\n",
       "      <td>1</td>\n",
       "      <td>GOOD</td>\n",
       "      <td>2.143447</td>\n",
       "      <td>GOOD</td>\n",
       "      <td>...</td>\n",
       "      <td>10.920708</td>\n",
       "      <td>GOOD</td>\n",
       "      <td>5.728287</td>\n",
       "      <td>GOOD</td>\n",
       "      <td>6.16152</td>\n",
       "      <td>GOOD</td>\n",
       "      <td>11.619858</td>\n",
       "      <td>GOOD</td>\n",
       "      <td>9.968401</td>\n",
       "      <td>GOOD</td>\n",
       "    </tr>\n",
       "    <tr>\n",
       "      <th>1</th>\n",
       "      <td>2021-12-13 10:00:00</td>\n",
       "      <td>Serra-ES</td>\n",
       "      <td>LINE_3</td>\n",
       "      <td>CALDEIRAS</td>\n",
       "      <td>1</td>\n",
       "      <td>LOST_COMUNICATION</td>\n",
       "      <td>1</td>\n",
       "      <td>UNCERTAIN</td>\n",
       "      <td>2.065815</td>\n",
       "      <td>GOOD</td>\n",
       "      <td>...</td>\n",
       "      <td>1.994413</td>\n",
       "      <td>GOOD</td>\n",
       "      <td>4.86444</td>\n",
       "      <td>GOOD</td>\n",
       "      <td>20.889153</td>\n",
       "      <td>GOOD</td>\n",
       "      <td>5.522771</td>\n",
       "      <td>UNCERTAIN</td>\n",
       "      <td>10.762755</td>\n",
       "      <td>GOOD</td>\n",
       "    </tr>\n",
       "    <tr>\n",
       "      <th>2</th>\n",
       "      <td>2021-12-13 10:00:02</td>\n",
       "      <td>Serra-ES</td>\n",
       "      <td>LINE_1</td>\n",
       "      <td>ESTEIRA</td>\n",
       "      <td>1</td>\n",
       "      <td>LOST_COMUNICATION</td>\n",
       "      <td>1</td>\n",
       "      <td>GOOD</td>\n",
       "      <td>2.03662</td>\n",
       "      <td>GOOD</td>\n",
       "      <td>...</td>\n",
       "      <td>8.006534</td>\n",
       "      <td>GOOD</td>\n",
       "      <td>2.160102</td>\n",
       "      <td>GOOD</td>\n",
       "      <td>9.647112</td>\n",
       "      <td>GOOD</td>\n",
       "      <td>14.883096</td>\n",
       "      <td>GOOD</td>\n",
       "      <td>10.575115</td>\n",
       "      <td>BAD</td>\n",
       "    </tr>\n",
       "    <tr>\n",
       "      <th>3</th>\n",
       "      <td>2021-12-13 10:00:02</td>\n",
       "      <td>Vila Velha-ES</td>\n",
       "      <td>LINE_1</td>\n",
       "      <td>ESTEIRA</td>\n",
       "      <td>1</td>\n",
       "      <td>LOST_COMUNICATION</td>\n",
       "      <td>1</td>\n",
       "      <td>GOOD</td>\n",
       "      <td>2.05408</td>\n",
       "      <td>GOOD</td>\n",
       "      <td>...</td>\n",
       "      <td>2.999302</td>\n",
       "      <td>GOOD</td>\n",
       "      <td>3.474794</td>\n",
       "      <td>GOOD</td>\n",
       "      <td>13.214983</td>\n",
       "      <td>GOOD</td>\n",
       "      <td>7.549217</td>\n",
       "      <td>UNCERTAIN</td>\n",
       "      <td>4.29112</td>\n",
       "      <td>GOOD</td>\n",
       "    </tr>\n",
       "    <tr>\n",
       "      <th>4</th>\n",
       "      <td>2021-12-13 10:00:03</td>\n",
       "      <td>Santos-SP</td>\n",
       "      <td>LINE_1</td>\n",
       "      <td>BIOREATOR</td>\n",
       "      <td>1</td>\n",
       "      <td>LOST_COMUNICATION</td>\n",
       "      <td>1</td>\n",
       "      <td>GOOD</td>\n",
       "      <td>1.955951</td>\n",
       "      <td>GOOD</td>\n",
       "      <td>...</td>\n",
       "      <td>12.003081</td>\n",
       "      <td>GOOD</td>\n",
       "      <td>9.969707</td>\n",
       "      <td>GOOD</td>\n",
       "      <td>4.622861</td>\n",
       "      <td>GOOD</td>\n",
       "      <td>20.982421</td>\n",
       "      <td>BAD</td>\n",
       "      <td>13.672785</td>\n",
       "      <td>GOOD</td>\n",
       "    </tr>\n",
       "    <tr>\n",
       "      <th>5</th>\n",
       "      <td>2021-12-13 10:00:03</td>\n",
       "      <td>Serra-ES</td>\n",
       "      <td>LINE_3</td>\n",
       "      <td>COGERAÇÃO</td>\n",
       "      <td>1</td>\n",
       "      <td>LOST_COMUNICATION</td>\n",
       "      <td>1</td>\n",
       "      <td>GOOD</td>\n",
       "      <td>2.208203</td>\n",
       "      <td>GOOD</td>\n",
       "      <td>...</td>\n",
       "      <td>5.838597</td>\n",
       "      <td>UNCERTAIN</td>\n",
       "      <td>8.289185</td>\n",
       "      <td>GOOD</td>\n",
       "      <td>16.845207</td>\n",
       "      <td>GOOD</td>\n",
       "      <td>6.052791</td>\n",
       "      <td>GOOD</td>\n",
       "      <td>11.95307</td>\n",
       "      <td>GOOD</td>\n",
       "    </tr>\n",
       "    <tr>\n",
       "      <th>6</th>\n",
       "      <td>2021-12-13 10:00:03</td>\n",
       "      <td>Serra-ES</td>\n",
       "      <td>LINE_1</td>\n",
       "      <td>BIOREATOR</td>\n",
       "      <td>1</td>\n",
       "      <td>LOST_COMUNICATION</td>\n",
       "      <td>1</td>\n",
       "      <td>GOOD</td>\n",
       "      <td>1.125384</td>\n",
       "      <td>GOOD</td>\n",
       "      <td>...</td>\n",
       "      <td>7.795372</td>\n",
       "      <td>GOOD</td>\n",
       "      <td>5.93173</td>\n",
       "      <td>GOOD</td>\n",
       "      <td>15.229691</td>\n",
       "      <td>GOOD</td>\n",
       "      <td>5.930138</td>\n",
       "      <td>UNCERTAIN</td>\n",
       "      <td>17.423209</td>\n",
       "      <td>UNCERTAIN</td>\n",
       "    </tr>\n",
       "  </tbody>\n",
       "</table>\n",
       "<p>7 rows × 30 columns</p>\n",
       "</div>"
      ],
      "text/plain": [
       "            timestamp       location prd_line  equipment  operational_status  \\\n",
       "0 2021-12-13 10:00:00       Serra-ES   LINE_1  CALDEIRAS                   1   \n",
       "1 2021-12-13 10:00:00       Serra-ES   LINE_3  CALDEIRAS                   1   \n",
       "2 2021-12-13 10:00:02       Serra-ES   LINE_1    ESTEIRA                   1   \n",
       "3 2021-12-13 10:00:02  Vila Velha-ES   LINE_1    ESTEIRA                   1   \n",
       "4 2021-12-13 10:00:03      Santos-SP   LINE_1  BIOREATOR                   1   \n",
       "5 2021-12-13 10:00:03       Serra-ES   LINE_3  COGERAÇÃO                   1   \n",
       "6 2021-12-13 10:00:03       Serra-ES   LINE_1  BIOREATOR                   1   \n",
       "\n",
       "         fail_status  measurement_0  quality_0  measurement_1 quality_1  ...  \\\n",
       "0  LOST_COMUNICATION              1       GOOD       2.143447      GOOD  ...   \n",
       "1  LOST_COMUNICATION              1  UNCERTAIN       2.065815      GOOD  ...   \n",
       "2  LOST_COMUNICATION              1       GOOD        2.03662      GOOD  ...   \n",
       "3  LOST_COMUNICATION              1       GOOD        2.05408      GOOD  ...   \n",
       "4  LOST_COMUNICATION              1       GOOD       1.955951      GOOD  ...   \n",
       "5  LOST_COMUNICATION              1       GOOD       2.208203      GOOD  ...   \n",
       "6  LOST_COMUNICATION              1       GOOD       1.125384      GOOD  ...   \n",
       "\n",
       "   measurement_7  quality_7  measurement_8 quality_8  measurement_9 quality_9  \\\n",
       "0      10.920708       GOOD       5.728287      GOOD        6.16152      GOOD   \n",
       "1       1.994413       GOOD        4.86444      GOOD      20.889153      GOOD   \n",
       "2       8.006534       GOOD       2.160102      GOOD       9.647112      GOOD   \n",
       "3       2.999302       GOOD       3.474794      GOOD      13.214983      GOOD   \n",
       "4      12.003081       GOOD       9.969707      GOOD       4.622861      GOOD   \n",
       "5       5.838597  UNCERTAIN       8.289185      GOOD      16.845207      GOOD   \n",
       "6       7.795372       GOOD        5.93173      GOOD      15.229691      GOOD   \n",
       "\n",
       "   measurement_10 quality_10  measurement_11 quality_11  \n",
       "0       11.619858       GOOD        9.968401       GOOD  \n",
       "1        5.522771  UNCERTAIN       10.762755       GOOD  \n",
       "2       14.883096       GOOD       10.575115        BAD  \n",
       "3        7.549217  UNCERTAIN         4.29112       GOOD  \n",
       "4       20.982421        BAD       13.672785       GOOD  \n",
       "5        6.052791       GOOD        11.95307       GOOD  \n",
       "6        5.930138  UNCERTAIN       17.423209  UNCERTAIN  \n",
       "\n",
       "[7 rows x 30 columns]"
      ]
     },
     "execution_count": 28,
     "metadata": {},
     "output_type": "execute_result"
    }
   ],
   "source": [
    "def data_wrangler(df):\n",
    "    # map nans, to drop NAs rows and columns later\n",
    "    df = df.replace('', np.nan)\n",
    "    # remove rows containing only NAs\n",
    "    df = df.dropna(how='all', axis=0)\n",
    "    # remove columns containing only NAs\n",
    "    df = df.dropna(how='all', axis=1)\n",
    "    df= df.convert_dtypes()\n",
    "    \n",
    "    return df\n",
    "\n",
    "df_sensor = data_wrangler(df_sensor)\n",
    "df_sensor.head(7)"
   ]
  },
  {
   "cell_type": "markdown",
   "id": "326081fe",
   "metadata": {},
   "source": [
    "# Handling columns location and timestamp #\n",
    "# Column location split into two columns cidade e estado #\n",
    "# Column timestamp split into date, hour, minute, second e microseconds #"
   ]
  },
  {
   "cell_type": "code",
   "execution_count": 29,
   "id": "386e012f",
   "metadata": {},
   "outputs": [],
   "source": [
    "# Column location split into two columns cidade e estado.\n",
    "df_sensor['estado'] = df_sensor['location'].str.split('-').str[1]\n",
    "df_sensor['cidade'] = df_sensor['location'].str.split('-').str[0]"
   ]
  },
  {
   "cell_type": "code",
   "execution_count": 30,
   "id": "21907439",
   "metadata": {},
   "outputs": [],
   "source": [
    "df_sensor['data']= df_sensor['timestamp'].dt.normalize()\n",
    "df_sensor['hora']= df_sensor['timestamp'].dt.hour\n",
    "df_sensor['minuto']= df_sensor['timestamp'].dt.minute\n",
    "df_sensor['segundo']= df_sensor['timestamp'].dt.second\n",
    "df_sensor['microsegundo']= df_sensor['timestamp'].dt.microsecond/1000"
   ]
  },
  {
   "cell_type": "code",
   "execution_count": 31,
   "id": "c216f5b0",
   "metadata": {},
   "outputs": [
    {
     "data": {
      "text/html": [
       "<div>\n",
       "<style scoped>\n",
       "    .dataframe tbody tr th:only-of-type {\n",
       "        vertical-align: middle;\n",
       "    }\n",
       "\n",
       "    .dataframe tbody tr th {\n",
       "        vertical-align: top;\n",
       "    }\n",
       "\n",
       "    .dataframe thead th {\n",
       "        text-align: right;\n",
       "    }\n",
       "</style>\n",
       "<table border=\"1\" class=\"dataframe\">\n",
       "  <thead>\n",
       "    <tr style=\"text-align: right;\">\n",
       "      <th></th>\n",
       "      <th>timestamp</th>\n",
       "      <th>location</th>\n",
       "      <th>prd_line</th>\n",
       "      <th>equipment</th>\n",
       "      <th>operational_status</th>\n",
       "      <th>fail_status</th>\n",
       "      <th>measurement_0</th>\n",
       "      <th>quality_0</th>\n",
       "      <th>measurement_1</th>\n",
       "      <th>quality_1</th>\n",
       "      <th>...</th>\n",
       "      <th>quality_10</th>\n",
       "      <th>measurement_11</th>\n",
       "      <th>quality_11</th>\n",
       "      <th>estado</th>\n",
       "      <th>cidade</th>\n",
       "      <th>data</th>\n",
       "      <th>hora</th>\n",
       "      <th>minuto</th>\n",
       "      <th>segundo</th>\n",
       "      <th>microsegundo</th>\n",
       "    </tr>\n",
       "  </thead>\n",
       "  <tbody>\n",
       "    <tr>\n",
       "      <th>17997</th>\n",
       "      <td>2021-12-13 14:59:57</td>\n",
       "      <td>Caxias do Sul-RS</td>\n",
       "      <td>LINE_3</td>\n",
       "      <td>COGERAÇÃO</td>\n",
       "      <td>1</td>\n",
       "      <td>LOST_COMUNICATION</td>\n",
       "      <td>1</td>\n",
       "      <td>GOOD</td>\n",
       "      <td>1.8927</td>\n",
       "      <td>GOOD</td>\n",
       "      <td>...</td>\n",
       "      <td>GOOD</td>\n",
       "      <td>8.937103</td>\n",
       "      <td>GOOD</td>\n",
       "      <td>RS</td>\n",
       "      <td>Caxias do Sul</td>\n",
       "      <td>2021-12-13</td>\n",
       "      <td>14</td>\n",
       "      <td>59</td>\n",
       "      <td>57</td>\n",
       "      <td>0.0</td>\n",
       "    </tr>\n",
       "    <tr>\n",
       "      <th>17998</th>\n",
       "      <td>2021-12-13 14:59:59</td>\n",
       "      <td>Mauá-SP</td>\n",
       "      <td>LINE_1</td>\n",
       "      <td>COGERAÇÃO</td>\n",
       "      <td>1</td>\n",
       "      <td>LOST_COMUNICATION</td>\n",
       "      <td>1</td>\n",
       "      <td>UNCERTAIN</td>\n",
       "      <td>1.569316</td>\n",
       "      <td>GOOD</td>\n",
       "      <td>...</td>\n",
       "      <td>UNCERTAIN</td>\n",
       "      <td>19.364115</td>\n",
       "      <td>GOOD</td>\n",
       "      <td>SP</td>\n",
       "      <td>Mauá</td>\n",
       "      <td>2021-12-13</td>\n",
       "      <td>14</td>\n",
       "      <td>59</td>\n",
       "      <td>59</td>\n",
       "      <td>0.0</td>\n",
       "    </tr>\n",
       "    <tr>\n",
       "      <th>17999</th>\n",
       "      <td>2021-12-13 14:59:59</td>\n",
       "      <td>Serra-ES</td>\n",
       "      <td>LINE_1</td>\n",
       "      <td>COGERAÇÃO</td>\n",
       "      <td>1</td>\n",
       "      <td>LOST_COMUNICATION</td>\n",
       "      <td>1</td>\n",
       "      <td>GOOD</td>\n",
       "      <td>2.128198</td>\n",
       "      <td>UNCERTAIN</td>\n",
       "      <td>...</td>\n",
       "      <td>UNCERTAIN</td>\n",
       "      <td>14.077669</td>\n",
       "      <td>GOOD</td>\n",
       "      <td>ES</td>\n",
       "      <td>Serra</td>\n",
       "      <td>2021-12-13</td>\n",
       "      <td>14</td>\n",
       "      <td>59</td>\n",
       "      <td>59</td>\n",
       "      <td>0.0</td>\n",
       "    </tr>\n",
       "  </tbody>\n",
       "</table>\n",
       "<p>3 rows × 37 columns</p>\n",
       "</div>"
      ],
      "text/plain": [
       "                timestamp          location prd_line  equipment  \\\n",
       "17997 2021-12-13 14:59:57  Caxias do Sul-RS   LINE_3  COGERAÇÃO   \n",
       "17998 2021-12-13 14:59:59           Mauá-SP   LINE_1  COGERAÇÃO   \n",
       "17999 2021-12-13 14:59:59          Serra-ES   LINE_1  COGERAÇÃO   \n",
       "\n",
       "       operational_status        fail_status  measurement_0  quality_0  \\\n",
       "17997                   1  LOST_COMUNICATION              1       GOOD   \n",
       "17998                   1  LOST_COMUNICATION              1  UNCERTAIN   \n",
       "17999                   1  LOST_COMUNICATION              1       GOOD   \n",
       "\n",
       "       measurement_1  quality_1  ...  quality_10 measurement_11  quality_11  \\\n",
       "17997         1.8927       GOOD  ...        GOOD       8.937103        GOOD   \n",
       "17998       1.569316       GOOD  ...   UNCERTAIN      19.364115        GOOD   \n",
       "17999       2.128198  UNCERTAIN  ...   UNCERTAIN      14.077669        GOOD   \n",
       "\n",
       "      estado         cidade       data  hora minuto  segundo microsegundo  \n",
       "17997     RS  Caxias do Sul 2021-12-13    14     59       57          0.0  \n",
       "17998     SP           Mauá 2021-12-13    14     59       59          0.0  \n",
       "17999     ES          Serra 2021-12-13    14     59       59          0.0  \n",
       "\n",
       "[3 rows x 37 columns]"
      ]
     },
     "execution_count": 31,
     "metadata": {},
     "output_type": "execute_result"
    }
   ],
   "source": [
    "df_sensor.tail(3)"
   ]
  },
  {
   "cell_type": "code",
   "execution_count": null,
   "id": "5dcddd48",
   "metadata": {},
   "outputs": [],
   "source": [
    "\"\"\"\n",
    "A column that has a single value has a variance of 0.0\n",
    "and a column that has very few unique values may have a small variance.\n",
    "\"\"\""
   ]
  },
  {
   "cell_type": "code",
   "execution_count": 53,
   "id": "a4393179",
   "metadata": {},
   "outputs": [
    {
     "name": "stdout",
     "output_type": "stream",
     "text": [
      "Linhas & Colunas:  (18000, 16) (18000,)\n",
      ">Limite = 0.00, Características = 15\n",
      ">Limite = 0.05, Características = 15\n",
      ">Limite = 0.10, Características = 14\n",
      ">Limite = 0.15, Características = 14\n",
      ">Limite = 0.20, Características = 14\n",
      ">Limite = 0.25, Características = 13\n",
      ">Limite = 0.30, Características = 13\n",
      ">Limite = 0.35, Características = 13\n",
      ">Limite = 0.40, Características = 13\n",
      ">Limite = 0.45, Características = 13\n",
      ">Limite = 0.50, Características = 13\n"
     ]
    }
   ],
   "source": [
    "# explore the effect of limits of variation on the number of numerical characteristics selected\n",
    "from numpy import arange\n",
    "from pandas import read_csv\n",
    "from sklearn.feature_selection import VarianceThreshold\n",
    "from matplotlib import pyplot\n",
    "\n",
    "# Extract only columns with numeric values in order to check the variance\n",
    "df_numeric = df_sensor.select_dtypes(include=[np.number])\n",
    "\n",
    "# split data into inputs and outputs\n",
    "\n",
    "data = df_numeric.values\n",
    "X = data[:, :-1]\n",
    "y = data[:, -1]\n",
    "print(\"Linhas & Colunas: \",X.shape, y.shape)\n",
    "\n",
    "# set limits to check\n",
    "thresholds = arange(0.0, 0.55, 0.05)\n",
    "\n",
    "# apply transformation with each limit\n",
    "results = list()\n",
    "for t in thresholds:\n",
    "    \n",
    "    # set the transformation\n",
    "    transform = VarianceThreshold(threshold=t)\n",
    "    \n",
    "    # transform input data\n",
    "    X_sel = transform.fit_transform(X)\n",
    "    \n",
    "    # determine the number of input characteristics\n",
    "    n_features = X_sel.shape[1]\n",
    "    print('>Limite = %.2f, Características = %d' % (t, n_features))\n",
    "    \n",
    "    # store the result\n",
    "    results.append(n_features)"
   ]
  },
  {
   "cell_type": "code",
   "execution_count": 60,
   "id": "331ab5f0",
   "metadata": {},
   "outputs": [
    {
     "data": {
      "image/png": "[encoded data removed]",
      "text/plain": [
       "<Figure size 432x288 with 1 Axes>"
      ]
     },
     "metadata": {
      "needs_background": "light"
     },
     "output_type": "display_data"
    }
   ],
   "source": [
    "pyplot.plot(thresholds, results)\n",
    "pyplot.title('Line graph of variation threshold vs number of selected features.', color='green', fontsize=16)\n",
    "pyplot.show()"
   ]
  },
  {
   "cell_type": "markdown",
   "id": "d2a05c7c",
   "metadata": {},
   "source": [
    "#### The chart above allows us to assess the level of variability in the data, and thus decide to exclude columns that show low variability.. ###"
   ]
  },
  {
   "cell_type": "code",
   "execution_count": 88,
   "id": "eb4b3dc1",
   "metadata": {},
   "outputs": [
    {
     "data": {
      "text/plain": [
       "0"
      ]
     },
     "execution_count": 88,
     "metadata": {},
     "output_type": "execute_result"
    }
   ],
   "source": [
    "# Check for duplicate values.\n",
    "\n",
    "df_sensor.duplicated().sum()"
   ]
  },
  {
   "cell_type": "markdown",
   "id": "4276ea50",
   "metadata": {},
   "source": [
    "## Visualize data distribution ##"
   ]
  },
  {
   "cell_type": "code",
   "execution_count": 61,
   "id": "31a1ceea",
   "metadata": {},
   "outputs": [
    {
     "data": {
      "text/plain": [
       "<seaborn.axisgrid.FacetGrid at 0x7ff9cb39bcd0>"
      ]
     },
     "execution_count": 61,
     "metadata": {},
     "output_type": "execute_result"
    },
    {
     "data": {
      "image/png": "[encoded data removed]",
      "text/plain": [
       "<Figure size 463.25x360 with 1 Axes>"
      ]
     },
     "metadata": {
      "needs_background": "light"
     },
     "output_type": "display_data"
    }
   ],
   "source": [
    "# distribution of data in the dataset.\n",
    "sns.displot(data=df_sensor, x=\"segundo\", kde=True, hue=\"cidade\")"
   ]
  },
  {
   "cell_type": "code",
   "execution_count": 62,
   "id": "0d423a56",
   "metadata": {},
   "outputs": [
    {
     "data": {
      "text/plain": [
       "<seaborn.axisgrid.FacetGrid at 0x7ff9cb334a30>"
      ]
     },
     "execution_count": 62,
     "metadata": {},
     "output_type": "execute_result"
    },
    {
     "data": {
      "image/png": "[encoded data removed]",
      "text/plain": [
       "<Figure size 1489.12x360 with 4 Axes>"
      ]
     },
     "metadata": {
      "needs_background": "light"
     },
     "output_type": "display_data"
    }
   ],
   "source": [
    "sns.displot(data=df_sensor, x=\"segundo\", hue=\"estado\", col=\"fail_status\", kind=\"kde\")"
   ]
  },
  {
   "cell_type": "code",
   "execution_count": 63,
   "id": "a67eea4f",
   "metadata": {},
   "outputs": [
    {
     "data": {
      "text/plain": [
       "<seaborn.axisgrid.FacetGrid at 0x7ff9cb334940>"
      ]
     },
     "execution_count": 63,
     "metadata": {},
     "output_type": "execute_result"
    },
    {
     "data": {
      "image/png": "[encoded data removed]",
      "text/plain": [
       "<Figure size 459.25x360 with 1 Axes>"
      ]
     },
     "metadata": {
      "needs_background": "light"
     },
     "output_type": "display_data"
    }
   ],
   "source": [
    "sns.displot(data=df_sensor, x=\"segundo\", hue=\"equipment\", kind=\"kde\")"
   ]
  },
  {
   "cell_type": "markdown",
   "id": "682ddbf4",
   "metadata": {},
   "source": [
    "## Upload the dataframe to the Snowflake cloud environment. ##"
   ]
  },
  {
   "cell_type": "code",
   "execution_count": 90,
   "id": "3978378e",
   "metadata": {},
   "outputs": [
    {
     "name": "stdout",
     "output_type": "stream",
     "text": [
      "\n",
      "Total lines inserted:  18000 \n",
      "\n",
      "2022-01-11 01:48:24,872 INFO sqlalchemy.pool.impl.QueuePool Pool disposed. Pool size: 10  Connections in pool: 0 Current Overflow: -10 Current Checked out connections: 0\n",
      "2022-01-11 01:48:24,876 INFO sqlalchemy.pool.impl.QueuePool Pool recreating\n"
     ]
    }
   ],
   "source": [
    "from sqlalchemy import create_engine\n",
    "import pandas as pd\n",
    "\n",
    "snowflake_username = 'username'\n",
    "snowflake_password = 'password'\n",
    "snowflake_account = 'accoutname'\n",
    "snowflake_warehouse = 'warehouse'\n",
    "snowflake_database = 'database'\n",
    "snowflake_schema = 'public'\n",
    "\n",
    "\n",
    "engine = create_engine(\n",
    "    'snowflake://{user}:{password}@{account}/{db}/{schema}?warehouse={warehouse}'.format(\n",
    "        user=snowflake_username,\n",
    "        password=snowflake_password,\n",
    "        account=snowflake_account,\n",
    "        db=snowflake_database,\n",
    "        schema=snowflake_schema,\n",
    "        warehouse=snowflake_warehouse,\n",
    "        ),echo_pool=True, pool_size=10, max_overflow=20\n",
    "    )\n",
    "\n",
    "try:\n",
    "    connection = engine.connect()\n",
    "    \n",
    "    df_sensor.columns = map(str.upper, df_sensor.columns)\n",
    "    df_sensor.to_sql('tb_equipments'.lower(), con=connection, schema='public', index=False, if_exists='append', chunksize=16000)\n",
    "    results = connection.execute('select count(1) from tb_equipments').fetchone()\n",
    "    \n",
    "    print('\\nTotal de linhas inseridas: ',results[0], '\\n')\n",
    "    \n",
    "finally:\n",
    "    connection.close()\n",
    "    engine.dispose()"
   ]
  },
  {
   "cell_type": "code",
   "execution_count": 75,
   "id": "a7bcc25a",
   "metadata": {},
   "outputs": [],
   "source": []
  },
  {
   "cell_type": "code",
   "execution_count": null,
   "id": "8939232d",
   "metadata": {},
   "outputs": [],
   "source": []
  },
  {
   "cell_type": "code",
   "execution_count": null,
   "id": "2c0cbc88",
   "metadata": {},
   "outputs": [],
   "source": []
  }
 ],
 "metadata": {
  "kernelspec": {
   "display_name": "Python 3 (ipykernel)",
   "language": "python",
   "name": "python3"
  },
  "language_info": {
   "codemirror_mode": {
    "name": "ipython",
    "version": 3
   },
   "file_extension": ".py",
   "mimetype": "text/x-python",
   "name": "python",
   "nbconvert_exporter": "python",
   "pygments_lexer": "ipython3",
   "version": "3.8.10"
  }
 },
 "nbformat": 4,
 "nbformat_minor": 5
}
